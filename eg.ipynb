{
    "metadata": {
        "kernelspec": {
            "name": "python3",
            "display_name": "Python 3 (ipykernel)",
            "language": "python"
        }
    },
    "nbformat": 4,
    "nbformat_minor": 2,
    "cells": [
        {
            "cell_type": "code",
            "execution_count": 0,
            "metadata": {},
            "outputs": [],
            "source": [
                "import numpy as np\n",
                "import sympy as sp\n",
                "import scipy.stats as spst\n",
                "import scipy.special as spsp\n",
                "import matplotlib.pyplot as plt"
            ]
        },
        {
            "attachments": {},
            "cell_type": "markdown",
            "metadata": {},
            "source": [
                "# Problem 1 (total 15 points)"
            ]
        },
        {
            "attachments": {},
            "cell_type": "markdown",
            "metadata": {},
            "source": [
                "# Setting:\n",
                "\n",
                "You are managing the claims department of an insurance company. Suppose you know that the number of insurance claims that will be made is a function of an observable parameter $T$ that is uniformly distributed between $40$ and $60$. For any $T = t$, suppose the number of claims will have a Poisson distibution with mean $\\frac{1200}{t}$. Suppose also the size of each claim is equally likely to be one of the amounts in the set $\\{500, 900, 1000\\}.$ \n",
                "\n",
                "Let $p$ denote the probability that there will be at least 24 claims today. Similarly, let $q$ be the probability that the total size of the claims exceeds \\$20,000. "
            ]
        },
        {
            "attachments": {},
            "cell_type": "markdown",
            "metadata": {},
            "source": [
                "## Q1. [5 points]\n",
                "\n",
                "Obtain the raw simulation estimator of $p$ and $q$ by simply write a piece of code. Compute the mean and variance of your estimators."
            ]
        },
        {
            "cell_type": "code",
            "execution_count": 0,
            "metadata": {},
            "outputs": [],
            "source": [
                ""
            ]
        },
        {
            "attachments": {},
            "cell_type": "markdown",
            "metadata": {},
            "source": [
                "## Q2. [5 points]\n",
                "\n",
                "Develop an efficient simulation estimator (for both $p$ and $q$) that uses conditional expectation along with antithetic variables. Compute the mean and variance of your new estimators.\n",
                ""
            ]
        },
        {
            "cell_type": "code",
            "execution_count": 0,
            "metadata": {},
            "outputs": [],
            "source": [
                ""
            ]
        },
        {
            "attachments": {},
            "cell_type": "markdown",
            "metadata": {},
            "source": [
                "## Q3. [5 points]\n",
                "\n",
                "Develop an efficient simulation estimator (for both $p$ and $q$) that uses conditional expectation along with a control variate. Compute the mean and variance of your new estimators. (Clearly identify which variable you are using as your control variate.)"
            ]
        },
        {
            "cell_type": "code",
            "execution_count": 0,
            "metadata": {},
            "outputs": [],
            "source": [
                ""
            ]
        }
    ]
}
